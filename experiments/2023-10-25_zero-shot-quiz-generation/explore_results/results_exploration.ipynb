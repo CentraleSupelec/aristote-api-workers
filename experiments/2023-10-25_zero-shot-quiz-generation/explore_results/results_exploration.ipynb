{
 "cells": [
  {
   "cell_type": "markdown",
   "metadata": {},
   "source": [
    "# Quiz Evaluation"
   ]
  },
  {
   "cell_type": "code",
   "execution_count": null,
   "metadata": {},
   "outputs": [],
   "source": [
    "import os\n",
    "os.chdir(\"/Users/antonioloison/Projects/illuin/quiz-generation/experiments/2023-10-25_zero-shot-quiz-generation\")"
   ]
  },
  {
   "cell_type": "code",
   "execution_count": null,
   "metadata": {},
   "outputs": [],
   "source": [
    "import jsonlines\n",
    "import json"
   ]
  },
  {
   "cell_type": "markdown",
   "metadata": {},
   "source": [
    "## Title and description of the quiz"
   ]
  },
  {
   "cell_type": "code",
   "execution_count": null,
   "metadata": {},
   "outputs": [],
   "source": [
    "with open(\"results/metadata/metadata_vigostral.json\", \"r\") as file:\n",
    "    metadata = json.load(file)"
   ]
  },
  {
   "cell_type": "code",
   "execution_count": null,
   "metadata": {},
   "outputs": [],
   "source": [
    "print(\"Title:\")\n",
    "print(metadata[\"title\"])\n",
    "print(\"Description:\")\n",
    "print(metadata[\"description\"])"
   ]
  },
  {
   "cell_type": "markdown",
   "metadata": {},
   "source": [
    "## Local quizzes"
   ]
  },
  {
   "cell_type": "code",
   "execution_count": null,
   "metadata": {},
   "outputs": [],
   "source": [
    "with jsonlines.open(\"results/quizzes/quizzes_vigostral.jsonl\") as  reader:\n",
    "    quizzes = list(reader)"
   ]
  },
  {
   "cell_type": "code",
   "execution_count": null,
   "metadata": {},
   "outputs": [],
   "source": [
    "for quiz in quizzes[:5]:\n",
    "    print(\"Reformulation:\")\n",
    "    print(quiz[\"quiz\"][\"quiz_origin_text\"])\n",
    "    print(\"Question:\")\n",
    "    print(quiz[\"quiz\"][\"question\"])\n",
    "    print(\"Answer:\")\n",
    "    print(quiz[\"quiz\"][\"answer\"])\n",
    "    print(\"Fake answers:\")\n",
    "    print(quiz[\"quiz\"][\"fake_answer_1\"])\n",
    "    print(quiz[\"quiz\"][\"fake_answer_2\"])\n",
    "    print(quiz[\"quiz\"][\"fake_answer_3\"])\n",
    "    \n",
    "    print(\"Evaluation:\")\n",
    "    for k, v in quiz[\"evaluation\"].items():\n",
    "        print(f\"{k}: {v}\")\n",
    "    print(\"------------------------------------------------------------\")"
   ]
  },
  {
   "cell_type": "markdown",
   "metadata": {},
   "source": [
    "## Global quizzes"
   ]
  },
  {
   "cell_type": "code",
   "execution_count": null,
   "metadata": {},
   "outputs": [],
   "source": [
    "for quiz in quizzes[-2:]:\n",
    "    print(\"Reformulation:\")\n",
    "    print(quiz[\"quiz\"][\"quiz_origin_text\"])\n",
    "    print(\"Question:\")\n",
    "    print(quiz[\"quiz\"][\"question\"])\n",
    "    print(\"Answer:\")\n",
    "    print(quiz[\"quiz\"][\"answer\"])\n",
    "    print(\"Fake answers:\")\n",
    "    print(quiz[\"quiz\"][\"fake_answer_1\"])\n",
    "    print(quiz[\"quiz\"][\"fake_answer_2\"])\n",
    "    print(quiz[\"quiz\"][\"fake_answer_3\"])\n",
    "    \n",
    "    print(\"Evaluation:\")\n",
    "    for k, v in quiz[\"evaluation\"].items():\n",
    "        print(f\"{k}: {v}\")\n",
    "    print(\"------------------------------------------------------------\")"
   ]
  },
  {
   "cell_type": "markdown",
   "metadata": {},
   "source": [
    "## Quiz Rank"
   ]
  },
  {
   "cell_type": "code",
   "execution_count": null,
   "metadata": {},
   "outputs": [],
   "source": [
    "scores = [\n",
    "    sum([int(quiz[\"evaluation\"][k]) for k in quiz[\"evaluation\"].keys()])\n",
    "    for quiz in quizzes\n",
    "]\n",
    "\n",
    "ranked_quizzes = sorted(zip(scores, quizzes), key=lambda x: x[0], reverse=True)"
   ]
  },
  {
   "cell_type": "code",
   "execution_count": null,
   "metadata": {},
   "outputs": [],
   "source": [
    "ranked_quizzes[:5]"
   ]
  },
  {
   "cell_type": "code",
   "execution_count": null,
   "metadata": {},
   "outputs": [],
   "source": []
  }
 ],
 "metadata": {
  "kernelspec": {
   "display_name": ".venv",
   "language": "python",
   "name": "python3"
  },
  "language_info": {
   "codemirror_mode": {
    "name": "ipython",
    "version": 3
   },
   "file_extension": ".py",
   "mimetype": "text/x-python",
   "name": "python",
   "nbconvert_exporter": "python",
   "pygments_lexer": "ipython3",
   "version": "3.11.6"
  }
 },
 "nbformat": 4,
 "nbformat_minor": 2
}
