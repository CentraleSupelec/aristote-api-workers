{
 "cells": [
  {
   "cell_type": "code",
   "execution_count": null,
   "metadata": {},
   "outputs": [],
   "source": [
    "import os\n",
    "os.chdir(\"/Users/antonioloison/Projects/illuin/quiz-generation/\")"
   ]
  },
  {
   "cell_type": "code",
   "execution_count": null,
   "metadata": {},
   "outputs": [],
   "source": [
    "import pandas as pd\n",
    "import jsonlines\n",
    "import numpy as np\n",
    "from tabulate import tabulate\n"
   ]
  },
  {
   "cell_type": "code",
   "execution_count": null,
   "metadata": {},
   "outputs": [],
   "source": [
    "transcripts = [\n",
    "    \"biology\", \n",
    "    \"literature\", \n",
    "    \"clustering\", \n",
    "    \"philosophy\", \n",
    "    \"ri\",\n",
    "    \"sociologie\",\n",
    "]\n",
    "criteria = [\n",
    "    \"is_related\",\n",
    "    \"is_self_contained\",\n",
    "    \"is_question\",\n",
    "    \"language_is_clear\",\n",
    "    \"answers_are_related\",\n",
    "    \"answers_are_all_different\",\n",
    "    \"fake_answers_are_not_obvious\",\n",
    "    \"quiz_about_concept\",\n",
    "    \"score\"\n",
    "]\n",
    "\n",
    "for transcript in transcripts:\n",
    "    all_scores = []\n",
    "    for model_name in [\"zephyr\", \"hermes\", \"gpt4\"]:\n",
    "        dir_path = f\"experiments/2023-11-21_gpt4-english-filtering/results/{model_name}_{transcript}\"\n",
    "        with jsonlines.open(os.path.join(dir_path, \"evaluated_quizzes.jsonl\")) as reader:\n",
    "            evaluated_quizzes = list(reader)\n",
    "        scores = [model_name]\n",
    "        for criterium in criteria:\n",
    "            if criterium == \"score\":\n",
    "                scores.append(round(np.average([int(qui[\"evaluation\"][criterium]) * 10 for qui in evaluated_quizzes])))\n",
    "            else:\n",
    "                scores.append(round(np.average([int(qui[\"evaluation\"][criterium]) * 100 for qui in evaluated_quizzes])))\n",
    "        all_scores.append(scores)\n",
    "    df = pd.DataFrame.from_records(all_scores)\n",
    "    print(transcript)\n",
    "    # print(df)\n",
    "    print(tabulate(all_scores, headers=[\"model\"] + criteria, tablefmt=\"github\"))"
   ]
  },
  {
   "cell_type": "code",
   "execution_count": null,
   "metadata": {},
   "outputs": [],
   "source": [
    "print(\"86%\\t100%\\t100%\\t100%\\t100%\\t100%\\t100%\\t100%\\t100%\")"
   ]
  },
  {
   "cell_type": "code",
   "execution_count": null,
   "metadata": {},
   "outputs": [],
   "source": []
  }
 ],
 "metadata": {
  "kernelspec": {
   "display_name": ".venv",
   "language": "python",
   "name": "python3"
  },
  "language_info": {
   "codemirror_mode": {
    "name": "ipython",
    "version": 3
   },
   "file_extension": ".py",
   "mimetype": "text/x-python",
   "name": "python",
   "nbconvert_exporter": "python",
   "pygments_lexer": "ipython3",
   "version": "3.11.6"
  }
 },
 "nbformat": 4,
 "nbformat_minor": 2
}
